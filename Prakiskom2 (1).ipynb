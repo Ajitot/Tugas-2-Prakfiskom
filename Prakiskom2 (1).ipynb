{
  "nbformat": 4,
  "nbformat_minor": 0,
  "metadata": {
    "colab": {
      "provenance": []
    },
    "kernelspec": {
      "name": "python3",
      "display_name": "Python 3"
    },
    "language_info": {
      "name": "python"
    }
  },
  "cells": [
    {
      "cell_type": "markdown",
      "source": [
        "Sebuah bola mula-mula dalam keadaan diam pada lantai yang licin, kemudian bola didorong sehingga mengalami percepatan sebesar $4 m/s^2$, tentukan kecepatan bola setelah bergerak selama 8 sekon!\n",
        "\n",
        "Diketahui \\\n",
        "$V_0 = 0 m/s$ \\\n",
        "$a = 10m/s$ \\\n",
        "$t = 87 m/s$ \\\n",
        "$V_t = ?$ \\\n"
      ],
      "metadata": {
        "id": "X56B7_56vObY"
      }
    },
    {
      "cell_type": "markdown",
      "source": [
        "Sebuah bola mula-mula dalam keadaan diam pada lantai yang licin, kemudian bola didorong sehingga mengalami percepatan sebesar $10 m/s^2$, tentukan kecepatan bola setelah bergerak selama 20 sekon!\n",
        "\n",
        "Diketahui \\\n",
        "$V_0 = 0 m/s$ \\\n",
        "$a = 10m/s$ \\\n",
        "$t = 20 m/s$ \\\n",
        "$V_t = ?$ \\\n"
      ],
      "metadata": {
        "id": "EXUYlXNewkvM"
      }
    },
    {
      "cell_type": "code",
      "source": [
        "# v_t = v_0 + a*t\n",
        "v_0 = 0\n",
        "a = 10\n",
        "t = 20\n",
        "\n",
        "v_t = v_0 + a*t\n",
        "print(v_t, \"m/s\")\n",
        ""
      ],
      "metadata": {
        "colab": {
          "base_uri": "https://localhost:8080/"
        },
        "id": "NUTRJ7NgvXzC",
        "outputId": "787ba2ec-aa68-4e41-879a-2c17ae0cc575"
      },
      "execution_count": 2,
      "outputs": [
        {
          "output_type": "stream",
          "name": "stdout",
          "text": [
            "870 m/s\n"
          ]
        }
      ]
    },
    {
      "cell_type": "code",
      "source": [],
      "metadata": {
        "id": "-ylz5kH1wdnq"
      },
      "execution_count": null,
      "outputs": []
    }
  ]
}